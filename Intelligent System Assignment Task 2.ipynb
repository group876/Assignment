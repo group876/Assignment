{
 "cells": [
  {
   "cell_type": "markdown",
   "id": "c26be025",
   "metadata": {},
   "source": [
    "# Comparative study of regressor and classifier with decision tree using modern tools"
   ]
  },
  {
   "cell_type": "markdown",
   "id": "e6c913c5",
   "metadata": {},
   "source": [
    "### Importing libraries"
   ]
  },
  {
   "cell_type": "code",
   "execution_count": 37,
   "id": "7bb02539",
   "metadata": {},
   "outputs": [],
   "source": [
    "import numpy as np\n",
    "import pandas as pd\n",
    "from sklearn.model_selection import train_test_split\n",
    "from sklearn.preprocessing import MinMaxScaler\n",
    "from sklearn.tree import DecisionTreeClassifier\n",
    "from sklearn.tree import DecisionTreeRegressor\n",
    "from sklearn.metrics import accuracy_score,mean_absolute_error,mean_squared_error,r2_score\n",
    "from sklearn.model_selection import GridSearchCV\n",
    "from sklearn.metrics import confusion_matrix\n"
   ]
  },
  {
   "cell_type": "markdown",
   "id": "16a7a1a7",
   "metadata": {},
   "source": [
    "### Reading data"
   ]
  },
  {
   "cell_type": "code",
   "execution_count": 38,
   "id": "3e185713",
   "metadata": {},
   "outputs": [],
   "source": [
    "dataset=pd.read_csv(\"data.csv\")"
   ]
  },
  {
   "cell_type": "code",
   "execution_count": 39,
   "id": "5537a09e",
   "metadata": {},
   "outputs": [
    {
     "data": {
      "text/html": [
       "<div>\n",
       "<style scoped>\n",
       "    .dataframe tbody tr th:only-of-type {\n",
       "        vertical-align: middle;\n",
       "    }\n",
       "\n",
       "    .dataframe tbody tr th {\n",
       "        vertical-align: top;\n",
       "    }\n",
       "\n",
       "    .dataframe thead th {\n",
       "        text-align: right;\n",
       "    }\n",
       "</style>\n",
       "<table border=\"1\" class=\"dataframe\">\n",
       "  <thead>\n",
       "    <tr style=\"text-align: right;\">\n",
       "      <th></th>\n",
       "      <th>User ID</th>\n",
       "      <th>Gender</th>\n",
       "      <th>Age</th>\n",
       "      <th>EstimatedSalary</th>\n",
       "      <th>Purchased</th>\n",
       "    </tr>\n",
       "  </thead>\n",
       "  <tbody>\n",
       "    <tr>\n",
       "      <th>0</th>\n",
       "      <td>15624510</td>\n",
       "      <td>Male</td>\n",
       "      <td>19</td>\n",
       "      <td>19000</td>\n",
       "      <td>0</td>\n",
       "    </tr>\n",
       "    <tr>\n",
       "      <th>1</th>\n",
       "      <td>15810944</td>\n",
       "      <td>Male</td>\n",
       "      <td>35</td>\n",
       "      <td>20000</td>\n",
       "      <td>0</td>\n",
       "    </tr>\n",
       "    <tr>\n",
       "      <th>2</th>\n",
       "      <td>15668575</td>\n",
       "      <td>Female</td>\n",
       "      <td>26</td>\n",
       "      <td>43000</td>\n",
       "      <td>0</td>\n",
       "    </tr>\n",
       "    <tr>\n",
       "      <th>3</th>\n",
       "      <td>15603246</td>\n",
       "      <td>Female</td>\n",
       "      <td>27</td>\n",
       "      <td>57000</td>\n",
       "      <td>0</td>\n",
       "    </tr>\n",
       "    <tr>\n",
       "      <th>4</th>\n",
       "      <td>15804002</td>\n",
       "      <td>Male</td>\n",
       "      <td>19</td>\n",
       "      <td>76000</td>\n",
       "      <td>0</td>\n",
       "    </tr>\n",
       "    <tr>\n",
       "      <th>5</th>\n",
       "      <td>15728773</td>\n",
       "      <td>Male</td>\n",
       "      <td>27</td>\n",
       "      <td>58000</td>\n",
       "      <td>0</td>\n",
       "    </tr>\n",
       "    <tr>\n",
       "      <th>6</th>\n",
       "      <td>15598044</td>\n",
       "      <td>Female</td>\n",
       "      <td>27</td>\n",
       "      <td>84000</td>\n",
       "      <td>0</td>\n",
       "    </tr>\n",
       "    <tr>\n",
       "      <th>7</th>\n",
       "      <td>15694829</td>\n",
       "      <td>Female</td>\n",
       "      <td>32</td>\n",
       "      <td>150000</td>\n",
       "      <td>1</td>\n",
       "    </tr>\n",
       "    <tr>\n",
       "      <th>8</th>\n",
       "      <td>15600575</td>\n",
       "      <td>Male</td>\n",
       "      <td>25</td>\n",
       "      <td>33000</td>\n",
       "      <td>0</td>\n",
       "    </tr>\n",
       "    <tr>\n",
       "      <th>9</th>\n",
       "      <td>15727311</td>\n",
       "      <td>Female</td>\n",
       "      <td>35</td>\n",
       "      <td>65000</td>\n",
       "      <td>0</td>\n",
       "    </tr>\n",
       "  </tbody>\n",
       "</table>\n",
       "</div>"
      ],
      "text/plain": [
       "    User ID  Gender  Age  EstimatedSalary  Purchased\n",
       "0  15624510    Male   19            19000          0\n",
       "1  15810944    Male   35            20000          0\n",
       "2  15668575  Female   26            43000          0\n",
       "3  15603246  Female   27            57000          0\n",
       "4  15804002    Male   19            76000          0\n",
       "5  15728773    Male   27            58000          0\n",
       "6  15598044  Female   27            84000          0\n",
       "7  15694829  Female   32           150000          1\n",
       "8  15600575    Male   25            33000          0\n",
       "9  15727311  Female   35            65000          0"
      ]
     },
     "execution_count": 39,
     "metadata": {},
     "output_type": "execute_result"
    }
   ],
   "source": [
    "dataset.head(10)"
   ]
  },
  {
   "cell_type": "markdown",
   "id": "33aed25f",
   "metadata": {},
   "source": [
    "Feature Selection/importance\n"
   ]
  },
  {
   "cell_type": "code",
   "execution_count": 53,
   "id": "41f52d7a",
   "metadata": {},
   "outputs": [
    {
     "data": {
      "text/html": [
       "<div>\n",
       "<style scoped>\n",
       "    .dataframe tbody tr th:only-of-type {\n",
       "        vertical-align: middle;\n",
       "    }\n",
       "\n",
       "    .dataframe tbody tr th {\n",
       "        vertical-align: top;\n",
       "    }\n",
       "\n",
       "    .dataframe thead th {\n",
       "        text-align: right;\n",
       "    }\n",
       "</style>\n",
       "<table border=\"1\" class=\"dataframe\">\n",
       "  <thead>\n",
       "    <tr style=\"text-align: right;\">\n",
       "      <th></th>\n",
       "      <th>User ID</th>\n",
       "      <th>Gender</th>\n",
       "      <th>Age</th>\n",
       "      <th>EstimatedSalary</th>\n",
       "      <th>Purchased</th>\n",
       "    </tr>\n",
       "  </thead>\n",
       "  <tbody>\n",
       "    <tr>\n",
       "      <th>User ID</th>\n",
       "      <td>1.000000</td>\n",
       "      <td>-0.025249</td>\n",
       "      <td>-0.000721</td>\n",
       "      <td>0.071097</td>\n",
       "      <td>0.007120</td>\n",
       "    </tr>\n",
       "    <tr>\n",
       "      <th>Gender</th>\n",
       "      <td>-0.025249</td>\n",
       "      <td>1.000000</td>\n",
       "      <td>-0.073741</td>\n",
       "      <td>-0.060435</td>\n",
       "      <td>-0.042469</td>\n",
       "    </tr>\n",
       "    <tr>\n",
       "      <th>Age</th>\n",
       "      <td>-0.000721</td>\n",
       "      <td>-0.073741</td>\n",
       "      <td>1.000000</td>\n",
       "      <td>0.155238</td>\n",
       "      <td>0.622454</td>\n",
       "    </tr>\n",
       "    <tr>\n",
       "      <th>EstimatedSalary</th>\n",
       "      <td>0.071097</td>\n",
       "      <td>-0.060435</td>\n",
       "      <td>0.155238</td>\n",
       "      <td>1.000000</td>\n",
       "      <td>0.362083</td>\n",
       "    </tr>\n",
       "    <tr>\n",
       "      <th>Purchased</th>\n",
       "      <td>0.007120</td>\n",
       "      <td>-0.042469</td>\n",
       "      <td>0.622454</td>\n",
       "      <td>0.362083</td>\n",
       "      <td>1.000000</td>\n",
       "    </tr>\n",
       "  </tbody>\n",
       "</table>\n",
       "</div>"
      ],
      "text/plain": [
       "                  User ID    Gender       Age  EstimatedSalary  Purchased\n",
       "User ID          1.000000 -0.025249 -0.000721         0.071097   0.007120\n",
       "Gender          -0.025249  1.000000 -0.073741        -0.060435  -0.042469\n",
       "Age             -0.000721 -0.073741  1.000000         0.155238   0.622454\n",
       "EstimatedSalary  0.071097 -0.060435  0.155238         1.000000   0.362083\n",
       "Purchased        0.007120 -0.042469  0.622454         0.362083   1.000000"
      ]
     },
     "execution_count": 53,
     "metadata": {},
     "output_type": "execute_result"
    }
   ],
   "source": [
    "dataset.corr()"
   ]
  },
  {
   "cell_type": "markdown",
   "id": "2ef5ec4b",
   "metadata": {},
   "source": [
    "Selecting Age and EstimimatedSalary as Features"
   ]
  },
  {
   "cell_type": "code",
   "execution_count": 40,
   "id": "12177d73",
   "metadata": {},
   "outputs": [],
   "source": [
    "#Features\n",
    "x= dataset[['Age','EstimatedSalary']]\n",
    "#Labels\n",
    "y = dataset['Purchased']"
   ]
  },
  {
   "cell_type": "markdown",
   "id": "055dbb2f",
   "metadata": {},
   "source": [
    "Splitting the data into 75 % for training and 25% for testing"
   ]
  },
  {
   "cell_type": "code",
   "execution_count": 41,
   "id": "d8e6ea23",
   "metadata": {},
   "outputs": [],
   "source": [
    "x_train, x_test, y_train, y_test = train_test_split(x, y,test_size = 0.25,random_state=42)"
   ]
  },
  {
   "cell_type": "markdown",
   "id": "b2bfdc63",
   "metadata": {},
   "source": [
    "Normalizing using a minmax scale"
   ]
  },
  {
   "cell_type": "code",
   "execution_count": 42,
   "id": "39ead991",
   "metadata": {},
   "outputs": [],
   "source": [
    "scale_x = MinMaxScaler()\n",
    "x_train_s = scale_x.fit_transform(x_train)\n",
    "x_test_s = scale_x.transform(x_test)"
   ]
  },
  {
   "cell_type": "markdown",
   "id": "338df5a2",
   "metadata": {},
   "source": [
    "Fitting the data in the Decision Tree Classifier"
   ]
  },
  {
   "cell_type": "code",
   "execution_count": 43,
   "id": "7b72ba79",
   "metadata": {},
   "outputs": [],
   "source": [
    "model_dt = DecisionTreeClassifier()\n",
    "model_dt.fit(x_train_s, y_train)\n",
    "y_predict = model_dt.predict(x_test_s)\n"
   ]
  },
  {
   "cell_type": "markdown",
   "id": "9d0fa8ab",
   "metadata": {},
   "source": [
    "## Perfomance"
   ]
  },
  {
   "cell_type": "code",
   "execution_count": 44,
   "id": "4fbc520c",
   "metadata": {},
   "outputs": [
    {
     "name": "stdout",
     "output_type": "stream",
     "text": [
      "The accuracy of the Decision tree classifier is 0.82\n"
     ]
    }
   ],
   "source": [
    "print('The accuracy of the Decision tree classifier is',accuracy_score(y_test, y_predict))"
   ]
  },
  {
   "cell_type": "code",
   "execution_count": 45,
   "id": "0ca59d36",
   "metadata": {},
   "outputs": [
    {
     "name": "stdout",
     "output_type": "stream",
     "text": [
      "MSE: 0.18\n",
      "RMSE: 0.4242640687119285\n",
      "MAE: 0.18\n"
     ]
    }
   ],
   "source": [
    "print(\"MSE:\", mean_squared_error(y_test, y_predict))\n",
    "print(\"RMSE:\",np.sqrt(mean_squared_error(y_test, y_predict)))\n",
    "print(\"MAE:\", mean_absolute_error(y_test, y_predict))"
   ]
  },
  {
   "cell_type": "code",
   "execution_count": 46,
   "id": "b9542a80",
   "metadata": {},
   "outputs": [
    {
     "data": {
      "text/plain": [
       "array([[56,  7],\n",
       "       [11, 26]], dtype=int64)"
      ]
     },
     "execution_count": 46,
     "metadata": {},
     "output_type": "execute_result"
    }
   ],
   "source": [
    "confusion_matrix(y_test, y_predict)"
   ]
  },
  {
   "cell_type": "markdown",
   "id": "61634106",
   "metadata": {},
   "source": [
    "### Adding Gender to the features"
   ]
  },
  {
   "cell_type": "code",
   "execution_count": 47,
   "id": "36b7b4c9",
   "metadata": {},
   "outputs": [],
   "source": [
    "from sklearn.preprocessing import LabelEncoder\n",
    "\n",
    "# Create the label encoder\n",
    "le = LabelEncoder()\n",
    "dataset['Gender'] = le.fit_transform(dataset['Gender'])"
   ]
  },
  {
   "cell_type": "code",
   "execution_count": 48,
   "id": "464c102d",
   "metadata": {},
   "outputs": [],
   "source": [
    "x_train['Gender']=dataset['Gender']"
   ]
  },
  {
   "cell_type": "code",
   "execution_count": 49,
   "id": "062ec6b1",
   "metadata": {},
   "outputs": [],
   "source": [
    "x_test['Gender']=dataset['Gender']"
   ]
  },
  {
   "cell_type": "code",
   "execution_count": 50,
   "id": "1135675e",
   "metadata": {},
   "outputs": [],
   "source": [
    "scale_x = MinMaxScaler()\n",
    "x_train_s = scale_x.fit_transform(x_train)\n",
    "x_test_s = scale_x.transform(x_test)"
   ]
  },
  {
   "cell_type": "code",
   "execution_count": 51,
   "id": "4d717b7a",
   "metadata": {},
   "outputs": [],
   "source": [
    "model_dt = DecisionTreeClassifier()\n",
    "model_dt.fit(x_train_s, y_train)\n",
    "y_predict = model_dt.predict(x_test_s)"
   ]
  },
  {
   "cell_type": "code",
   "execution_count": 52,
   "id": "f961e211",
   "metadata": {},
   "outputs": [
    {
     "name": "stdout",
     "output_type": "stream",
     "text": [
      "The accuracy of the Decision tree classifier is after adding Gender  0.81\n"
     ]
    }
   ],
   "source": [
    "print('The accuracy of the Decision tree classifier is after adding Gender ',accuracy_score(y_test, y_predict))"
   ]
  },
  {
   "cell_type": "code",
   "execution_count": 17,
   "id": "4c3e564a",
   "metadata": {},
   "outputs": [
    {
     "name": "stdout",
     "output_type": "stream",
     "text": [
      "MSE: 0.18\n",
      "RMSE: 0.22779922779922768\n",
      "MAE: 0.18\n"
     ]
    }
   ],
   "source": [
    "print(\"MSE:\", mean_squared_error(y_test, y_predict))\n",
    "print(\"RMSE:\",  np.sqrt(mean_squared_error(y_test, y_predict)))\n",
    "print(\"MAE:\", mean_absolute_error(y_test, y_predict))"
   ]
  },
  {
   "cell_type": "code",
   "execution_count": 18,
   "id": "10407e3a",
   "metadata": {},
   "outputs": [
    {
     "data": {
      "text/plain": [
       "array([[55,  8],\n",
       "       [10, 27]], dtype=int64)"
      ]
     },
     "execution_count": 18,
     "metadata": {},
     "output_type": "execute_result"
    }
   ],
   "source": [
    "confusion_matrix(y_test, y_predict)"
   ]
  },
  {
   "cell_type": "markdown",
   "id": "9ec4c0e9",
   "metadata": {},
   "source": [
    "## Decision Tree as a Regressor"
   ]
  },
  {
   "cell_type": "code",
   "execution_count": 19,
   "id": "d1195af2",
   "metadata": {},
   "outputs": [],
   "source": [
    "#Features\n",
    "x_train= x_train.drop('Gender',axis=1)"
   ]
  },
  {
   "cell_type": "code",
   "execution_count": 20,
   "id": "bd6ab07b",
   "metadata": {},
   "outputs": [],
   "source": [
    "x_test = x_test.drop('Gender',axis=1)"
   ]
  },
  {
   "cell_type": "code",
   "execution_count": 25,
   "id": "dc4db1c0",
   "metadata": {},
   "outputs": [],
   "source": [
    "scale_x = MinMaxScaler()\n",
    "x_train_s = scale_x.fit_transform(x_train)\n",
    "x_test_s = scale_x.transform(x_test)"
   ]
  },
  {
   "cell_type": "code",
   "execution_count": 26,
   "id": "b38c5fe3",
   "metadata": {},
   "outputs": [],
   "source": [
    "model_r= DecisionTreeRegressor()\n",
    "model_r.fit(x_train_s, y_train)\n",
    "y_predict = model_r.predict(x_test_s)"
   ]
  },
  {
   "cell_type": "code",
   "execution_count": 28,
   "id": "d9de9c96",
   "metadata": {},
   "outputs": [
    {
     "name": "stdout",
     "output_type": "stream",
     "text": [
      "The accuracy of the regressor: 27.07%\n"
     ]
    }
   ],
   "source": [
    "from sklearn.metrics import r2_score\n",
    "\n",
    "# Assuming y_test and y_predict are NumPy arrays or Pandas Series\n",
    "accuracy = model_r.score(x_test_s, y_test)*100\n",
    "\n",
    "# Calculate the \"accuracy\" based on R-squared\n",
    "\n",
    "print('The accuracy of the regressor: {:.2f}%'.format(accuracy))\n"
   ]
  },
  {
   "cell_type": "code",
   "execution_count": null,
   "id": "479d7690",
   "metadata": {},
   "outputs": [],
   "source": []
  },
  {
   "cell_type": "code",
   "execution_count": 29,
   "id": "8b887ede",
   "metadata": {},
   "outputs": [
    {
     "name": "stdout",
     "output_type": "stream",
     "text": [
      "MSE: 0.17\n",
      "RMSE: 0.41231056256176607\n",
      "MAE: 0.17\n"
     ]
    }
   ],
   "source": [
    "print(\"MSE:\", mean_squared_error(y_test, y_predict))\n",
    "print(\"RMSE:\", np.sqrt(mean_squared_error(y_test, y_predict)))\n",
    "print(\"MAE:\", mean_absolute_error(y_test, y_predict))"
   ]
  },
  {
   "cell_type": "code",
   "execution_count": null,
   "id": "73262095",
   "metadata": {},
   "outputs": [],
   "source": []
  },
  {
   "cell_type": "markdown",
   "id": "de037faf",
   "metadata": {},
   "source": [
    "## Adding Gender to the features"
   ]
  },
  {
   "cell_type": "code",
   "execution_count": 30,
   "id": "3c4f4da0",
   "metadata": {},
   "outputs": [],
   "source": [
    "from sklearn.preprocessing import LabelEncoder\n",
    "\n",
    "# Create the label encoder\n",
    "le = LabelEncoder()\n",
    "\n",
    "dataset['Gender'] = le.fit_transform(dataset['Gender'])"
   ]
  },
  {
   "cell_type": "code",
   "execution_count": 31,
   "id": "23126fb0",
   "metadata": {},
   "outputs": [],
   "source": [
    "x_train['Gender']=dataset['Gender']"
   ]
  },
  {
   "cell_type": "code",
   "execution_count": 32,
   "id": "ee9776f2",
   "metadata": {},
   "outputs": [],
   "source": [
    "x_test['Gender']=dataset['Gender']"
   ]
  },
  {
   "cell_type": "code",
   "execution_count": null,
   "id": "9f811d02",
   "metadata": {},
   "outputs": [],
   "source": []
  },
  {
   "cell_type": "code",
   "execution_count": 33,
   "id": "a7fc508e",
   "metadata": {},
   "outputs": [],
   "source": [
    "scale_x = MinMaxScaler()\n",
    "x_train_s = scale_x.fit_transform(x_train)\n",
    "x_test_s = scale_x.transform(x_test)"
   ]
  },
  {
   "cell_type": "code",
   "execution_count": 34,
   "id": "fd12446a",
   "metadata": {},
   "outputs": [],
   "source": [
    "model_r = DecisionTreeRegressor()\n",
    "model_r.fit(x_train_s, y_train)\n",
    "y_predict = model_r.predict(x_test_s)"
   ]
  },
  {
   "cell_type": "code",
   "execution_count": 35,
   "id": "02a1948a",
   "metadata": {},
   "outputs": [
    {
     "name": "stdout",
     "output_type": "stream",
     "text": [
      "The accuracy of the regressor: 31.36%\n"
     ]
    }
   ],
   "source": [
    "from sklearn.metrics import r2_score\n",
    "\n",
    "# Assuming y_test and y_predict are NumPy arrays or Pandas Series\n",
    "r_squared = r_squared = model_r.score(x_test_s, y_test)\n",
    "\n",
    "# Calculate the \"accuracy\" based on R-squared\n",
    "accuracy = r_squared * 100.0\n",
    "print('The accuracy of the regressor: {:.2f}%'.format(accuracy))\n"
   ]
  },
  {
   "cell_type": "code",
   "execution_count": 36,
   "id": "a19878e4",
   "metadata": {},
   "outputs": [
    {
     "name": "stdout",
     "output_type": "stream",
     "text": [
      "MSE: 0.16\n",
      "RMSE: 0.4\n",
      "MAE: 0.16\n"
     ]
    }
   ],
   "source": [
    "print(\"MSE:\", mean_squared_error(y_test, y_predict))\n",
    "print(\"RMSE:\", np.sqrt(mean_squared_error(y_test, y_predict)))\n",
    "print(\"MAE:\", mean_absolute_error(y_test, y_predict))"
   ]
  },
  {
   "cell_type": "code",
   "execution_count": null,
   "id": "184ca0a3",
   "metadata": {},
   "outputs": [],
   "source": []
  },
  {
   "cell_type": "code",
   "execution_count": null,
   "id": "b6f7b854",
   "metadata": {},
   "outputs": [],
   "source": []
  }
 ],
 "metadata": {
  "kernelspec": {
   "display_name": "Python 3 (ipykernel)",
   "language": "python",
   "name": "python3"
  },
  "language_info": {
   "codemirror_mode": {
    "name": "ipython",
    "version": 3
   },
   "file_extension": ".py",
   "mimetype": "text/x-python",
   "name": "python",
   "nbconvert_exporter": "python",
   "pygments_lexer": "ipython3",
   "version": "3.9.13"
  }
 },
 "nbformat": 4,
 "nbformat_minor": 5
}
